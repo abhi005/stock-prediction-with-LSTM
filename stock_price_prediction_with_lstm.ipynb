{
  "nbformat": 4,
  "nbformat_minor": 0,
  "metadata": {
    "colab": {
      "name": "stock price prediction with lstm",
      "provenance": [],
      "toc_visible": true,
      "mount_file_id": "13joi-v-LauKrVaJIkYDujSx47F5csYJR",
      "authorship_tag": "ABX9TyNuyi60lqXitn9dyrZI4O0H",
      "include_colab_link": true
    },
    "kernelspec": {
      "name": "python3",
      "display_name": "Python 3"
    }
  },
  "cells": [
    {
      "cell_type": "markdown",
      "metadata": {
        "id": "view-in-github",
        "colab_type": "text"
      },
      "source": [
        "<a href=\"https://colab.research.google.com/github/abhi005/stock-prediction-with-LSTM/blob/master/stock_price_prediction_with_lstm.ipynb\" target=\"_parent\"><img src=\"https://colab.research.google.com/assets/colab-badge.svg\" alt=\"Open In Colab\"/></a>"
      ]
    },
    {
      "cell_type": "code",
      "metadata": {
        "id": "upc9jm3Bj5Yi",
        "colab_type": "code",
        "colab": {
          "base_uri": "https://localhost:8080/",
          "height": 252
        },
        "outputId": "56c6dcd2-62f6-45c9-f8b6-c83de2c57ccc"
      },
      "source": [
        "pip install nsepy"
      ],
      "execution_count": null,
      "outputs": [
        {
          "output_type": "stream",
          "text": [
            "Requirement already satisfied: nsepy in /usr/local/lib/python3.6/dist-packages (0.8)\n",
            "Requirement already satisfied: pandas in /usr/local/lib/python3.6/dist-packages (from nsepy) (1.0.5)\n",
            "Requirement already satisfied: six in /usr/local/lib/python3.6/dist-packages (from nsepy) (1.12.0)\n",
            "Requirement already satisfied: lxml in /usr/local/lib/python3.6/dist-packages (from nsepy) (4.2.6)\n",
            "Requirement already satisfied: numpy in /usr/local/lib/python3.6/dist-packages (from nsepy) (1.18.5)\n",
            "Requirement already satisfied: beautifulsoup4 in /usr/local/lib/python3.6/dist-packages (from nsepy) (4.6.3)\n",
            "Requirement already satisfied: click in /usr/local/lib/python3.6/dist-packages (from nsepy) (7.1.2)\n",
            "Requirement already satisfied: requests in /usr/local/lib/python3.6/dist-packages (from nsepy) (2.23.0)\n",
            "Requirement already satisfied: python-dateutil>=2.6.1 in /usr/local/lib/python3.6/dist-packages (from pandas->nsepy) (2.8.1)\n",
            "Requirement already satisfied: pytz>=2017.2 in /usr/local/lib/python3.6/dist-packages (from pandas->nsepy) (2018.9)\n",
            "Requirement already satisfied: idna<3,>=2.5 in /usr/local/lib/python3.6/dist-packages (from requests->nsepy) (2.10)\n",
            "Requirement already satisfied: urllib3!=1.25.0,!=1.25.1,<1.26,>=1.21.1 in /usr/local/lib/python3.6/dist-packages (from requests->nsepy) (1.24.3)\n",
            "Requirement already satisfied: chardet<4,>=3.0.2 in /usr/local/lib/python3.6/dist-packages (from requests->nsepy) (3.0.4)\n",
            "Requirement already satisfied: certifi>=2017.4.17 in /usr/local/lib/python3.6/dist-packages (from requests->nsepy) (2020.6.20)\n"
          ],
          "name": "stdout"
        }
      ]
    },
    {
      "cell_type": "markdown",
      "metadata": {
        "id": "z_xw-ySojdz9",
        "colab_type": "text"
      },
      "source": [
        "### Importing libraries"
      ]
    },
    {
      "cell_type": "code",
      "metadata": {
        "id": "hSSp9yrJjiba",
        "colab_type": "code",
        "colab": {}
      },
      "source": [
        "import numpy as np\n",
        "import pandas as pd\n",
        "import tensorflow as tf\n",
        "import matplotlib.pyplot as plt\n",
        "import datetime as dt"
      ],
      "execution_count": null,
      "outputs": []
    },
    {
      "cell_type": "markdown",
      "metadata": {
        "id": "I79hY8APjZKh",
        "colab_type": "text"
      },
      "source": [
        "### Preprocessing data"
      ]
    },
    {
      "cell_type": "code",
      "metadata": {
        "id": "p0BlVWlSjckd",
        "colab_type": "code",
        "colab": {}
      },
      "source": [
        "stk_data = pd.read_csv('drive/My Drive/Colab Notebooks/SBIN_stock_data.csv')"
      ],
      "execution_count": null,
      "outputs": []
    },
    {
      "cell_type": "code",
      "metadata": {
        "id": "EOCBnz1rkd4T",
        "colab_type": "code",
        "colab": {
          "base_uri": "https://localhost:8080/",
          "height": 296
        },
        "outputId": "4684d36a-22e5-4756-f15a-7906d01ae24f"
      },
      "source": [
        "stk_data.head()"
      ],
      "execution_count": null,
      "outputs": [
        {
          "output_type": "execute_result",
          "data": {
            "text/html": [
              "<div>\n",
              "<style scoped>\n",
              "    .dataframe tbody tr th:only-of-type {\n",
              "        vertical-align: middle;\n",
              "    }\n",
              "\n",
              "    .dataframe tbody tr th {\n",
              "        vertical-align: top;\n",
              "    }\n",
              "\n",
              "    .dataframe thead th {\n",
              "        text-align: right;\n",
              "    }\n",
              "</style>\n",
              "<table border=\"1\" class=\"dataframe\">\n",
              "  <thead>\n",
              "    <tr style=\"text-align: right;\">\n",
              "      <th></th>\n",
              "      <th>Date</th>\n",
              "      <th>Symbol</th>\n",
              "      <th>Series</th>\n",
              "      <th>Prev Close</th>\n",
              "      <th>Open</th>\n",
              "      <th>High</th>\n",
              "      <th>Low</th>\n",
              "      <th>Last</th>\n",
              "      <th>Close</th>\n",
              "      <th>VWAP</th>\n",
              "      <th>Volume</th>\n",
              "      <th>Turnover</th>\n",
              "      <th>Trades</th>\n",
              "      <th>Deliverable Volume</th>\n",
              "      <th>%Deliverble</th>\n",
              "    </tr>\n",
              "  </thead>\n",
              "  <tbody>\n",
              "    <tr>\n",
              "      <th>0</th>\n",
              "      <td>1996-01-01</td>\n",
              "      <td>SBIN</td>\n",
              "      <td>EQ</td>\n",
              "      <td>198.10</td>\n",
              "      <td>198.10</td>\n",
              "      <td>201.15</td>\n",
              "      <td>196.50</td>\n",
              "      <td>NaN</td>\n",
              "      <td>199.50</td>\n",
              "      <td>199.20</td>\n",
              "      <td>4126350</td>\n",
              "      <td>8.219580e+13</td>\n",
              "      <td>NaN</td>\n",
              "      <td>NaN</td>\n",
              "      <td>NaN</td>\n",
              "    </tr>\n",
              "    <tr>\n",
              "      <th>1</th>\n",
              "      <td>1996-01-02</td>\n",
              "      <td>SBIN</td>\n",
              "      <td>EQ</td>\n",
              "      <td>199.50</td>\n",
              "      <td>200.25</td>\n",
              "      <td>201.00</td>\n",
              "      <td>188.00</td>\n",
              "      <td>NaN</td>\n",
              "      <td>193.15</td>\n",
              "      <td>195.94</td>\n",
              "      <td>5299500</td>\n",
              "      <td>1.038380e+14</td>\n",
              "      <td>NaN</td>\n",
              "      <td>NaN</td>\n",
              "      <td>NaN</td>\n",
              "    </tr>\n",
              "    <tr>\n",
              "      <th>2</th>\n",
              "      <td>1996-01-03</td>\n",
              "      <td>SBIN</td>\n",
              "      <td>EQ</td>\n",
              "      <td>193.15</td>\n",
              "      <td>194.25</td>\n",
              "      <td>196.80</td>\n",
              "      <td>187.00</td>\n",
              "      <td>NaN</td>\n",
              "      <td>188.00</td>\n",
              "      <td>191.64</td>\n",
              "      <td>6443900</td>\n",
              "      <td>1.234929e+14</td>\n",
              "      <td>NaN</td>\n",
              "      <td>NaN</td>\n",
              "      <td>NaN</td>\n",
              "    </tr>\n",
              "    <tr>\n",
              "      <th>3</th>\n",
              "      <td>1996-01-04</td>\n",
              "      <td>SBIN</td>\n",
              "      <td>EQ</td>\n",
              "      <td>188.00</td>\n",
              "      <td>185.50</td>\n",
              "      <td>189.00</td>\n",
              "      <td>182.55</td>\n",
              "      <td>NaN</td>\n",
              "      <td>187.35</td>\n",
              "      <td>185.00</td>\n",
              "      <td>8121250</td>\n",
              "      <td>1.502404e+14</td>\n",
              "      <td>NaN</td>\n",
              "      <td>NaN</td>\n",
              "      <td>NaN</td>\n",
              "    </tr>\n",
              "    <tr>\n",
              "      <th>4</th>\n",
              "      <td>1996-01-05</td>\n",
              "      <td>SBIN</td>\n",
              "      <td>EQ</td>\n",
              "      <td>187.35</td>\n",
              "      <td>188.00</td>\n",
              "      <td>188.50</td>\n",
              "      <td>185.05</td>\n",
              "      <td>NaN</td>\n",
              "      <td>186.30</td>\n",
              "      <td>186.70</td>\n",
              "      <td>7228600</td>\n",
              "      <td>1.349576e+14</td>\n",
              "      <td>NaN</td>\n",
              "      <td>NaN</td>\n",
              "      <td>NaN</td>\n",
              "    </tr>\n",
              "  </tbody>\n",
              "</table>\n",
              "</div>"
            ],
            "text/plain": [
              "         Date Symbol Series  ...  Trades  Deliverable Volume  %Deliverble\n",
              "0  1996-01-01   SBIN     EQ  ...     NaN                 NaN          NaN\n",
              "1  1996-01-02   SBIN     EQ  ...     NaN                 NaN          NaN\n",
              "2  1996-01-03   SBIN     EQ  ...     NaN                 NaN          NaN\n",
              "3  1996-01-04   SBIN     EQ  ...     NaN                 NaN          NaN\n",
              "4  1996-01-05   SBIN     EQ  ...     NaN                 NaN          NaN\n",
              "\n",
              "[5 rows x 15 columns]"
            ]
          },
          "metadata": {
            "tags": []
          },
          "execution_count": 23
        }
      ]
    },
    {
      "cell_type": "code",
      "metadata": {
        "id": "w-3FeuIMttwl",
        "colab_type": "code",
        "colab": {}
      },
      "source": [
        "stk_data['Date'] = stk_data.index\n",
        "data = pd.DataFrame(columns=['date', 'prev_close', 'open', 'high', 'low', 'close'])\n",
        "data.date = stk_data['Date']\n",
        "data.prev_close = stk_data['Prev Close']\n",
        "data.open = stk_data['Open']\n",
        "data.high = stk_data['High']\n",
        "data.low = stk_data['Low']\n",
        "data.close = stk_data['Close']"
      ],
      "execution_count": null,
      "outputs": []
    },
    {
      "cell_type": "code",
      "metadata": {
        "id": "yXfRQkDduRNl",
        "colab_type": "code",
        "colab": {
          "base_uri": "https://localhost:8080/",
          "height": 195
        },
        "outputId": "b05e5ebc-4c38-466c-c5ec-372da2133c1e"
      },
      "source": [
        "data.head()"
      ],
      "execution_count": null,
      "outputs": [
        {
          "output_type": "execute_result",
          "data": {
            "text/html": [
              "<div>\n",
              "<style scoped>\n",
              "    .dataframe tbody tr th:only-of-type {\n",
              "        vertical-align: middle;\n",
              "    }\n",
              "\n",
              "    .dataframe tbody tr th {\n",
              "        vertical-align: top;\n",
              "    }\n",
              "\n",
              "    .dataframe thead th {\n",
              "        text-align: right;\n",
              "    }\n",
              "</style>\n",
              "<table border=\"1\" class=\"dataframe\">\n",
              "  <thead>\n",
              "    <tr style=\"text-align: right;\">\n",
              "      <th></th>\n",
              "      <th>date</th>\n",
              "      <th>prev_close</th>\n",
              "      <th>open</th>\n",
              "      <th>high</th>\n",
              "      <th>low</th>\n",
              "      <th>close</th>\n",
              "    </tr>\n",
              "  </thead>\n",
              "  <tbody>\n",
              "    <tr>\n",
              "      <th>0</th>\n",
              "      <td>0</td>\n",
              "      <td>198.10</td>\n",
              "      <td>198.10</td>\n",
              "      <td>201.15</td>\n",
              "      <td>196.50</td>\n",
              "      <td>199.50</td>\n",
              "    </tr>\n",
              "    <tr>\n",
              "      <th>1</th>\n",
              "      <td>1</td>\n",
              "      <td>199.50</td>\n",
              "      <td>200.25</td>\n",
              "      <td>201.00</td>\n",
              "      <td>188.00</td>\n",
              "      <td>193.15</td>\n",
              "    </tr>\n",
              "    <tr>\n",
              "      <th>2</th>\n",
              "      <td>2</td>\n",
              "      <td>193.15</td>\n",
              "      <td>194.25</td>\n",
              "      <td>196.80</td>\n",
              "      <td>187.00</td>\n",
              "      <td>188.00</td>\n",
              "    </tr>\n",
              "    <tr>\n",
              "      <th>3</th>\n",
              "      <td>3</td>\n",
              "      <td>188.00</td>\n",
              "      <td>185.50</td>\n",
              "      <td>189.00</td>\n",
              "      <td>182.55</td>\n",
              "      <td>187.35</td>\n",
              "    </tr>\n",
              "    <tr>\n",
              "      <th>4</th>\n",
              "      <td>4</td>\n",
              "      <td>187.35</td>\n",
              "      <td>188.00</td>\n",
              "      <td>188.50</td>\n",
              "      <td>185.05</td>\n",
              "      <td>186.30</td>\n",
              "    </tr>\n",
              "  </tbody>\n",
              "</table>\n",
              "</div>"
            ],
            "text/plain": [
              "   date  prev_close    open    high     low   close\n",
              "0     0      198.10  198.10  201.15  196.50  199.50\n",
              "1     1      199.50  200.25  201.00  188.00  193.15\n",
              "2     2      193.15  194.25  196.80  187.00  188.00\n",
              "3     3      188.00  185.50  189.00  182.55  187.35\n",
              "4     4      187.35  188.00  188.50  185.05  186.30"
            ]
          },
          "metadata": {
            "tags": []
          },
          "execution_count": 36
        }
      ]
    },
    {
      "cell_type": "code",
      "metadata": {
        "id": "sbHNcD8VujY_",
        "colab_type": "code",
        "colab": {
          "base_uri": "https://localhost:8080/",
          "height": 34
        },
        "outputId": "4fe2e962-de75-446c-b913-47a817ef8ec4"
      },
      "source": [
        "train_set = data.iloc[:-20, 1:3].values\n",
        "print(train_set.shape)"
      ],
      "execution_count": null,
      "outputs": [
        {
          "output_type": "stream",
          "text": [
            "(6091, 2)\n"
          ],
          "name": "stdout"
        }
      ]
    },
    {
      "cell_type": "markdown",
      "metadata": {
        "id": "CbaCqdq22DGo",
        "colab_type": "text"
      },
      "source": [
        "### Feature Scaling"
      ]
    },
    {
      "cell_type": "code",
      "metadata": {
        "id": "Yh0Fio7_vDC3",
        "colab_type": "code",
        "colab": {
          "base_uri": "https://localhost:8080/",
          "height": 34
        },
        "outputId": "a8ae2e7f-1e9b-4f5f-ecd3-5108de4dccdb"
      },
      "source": [
        "from sklearn.preprocessing import MinMaxScaler\n",
        "sc_1 = MinMaxScaler(feature_range = (0, 1))\n",
        "sc_2 = MinMaxScaler(feature_range = (0, 1))\n",
        "train_set_scaled_prev_close = sc_1.fit_transform(train_set[:, 0].reshape(-1, 1))\n",
        "print(train_set_scaled_pre_close.shape)\n",
        "train_set_scaled_open = sc_2.fit_transform(train_set[:, 1].reshape(-1, 1))\n",
        "train_set_scaled = np.concatenate((train_set_scaled_prev_close, train_set_scaled_open), axis=1)"
      ],
      "execution_count": null,
      "outputs": [
        {
          "output_type": "stream",
          "text": [
            "(6091, 1)\n"
          ],
          "name": "stdout"
        }
      ]
    },
    {
      "cell_type": "code",
      "metadata": {
        "id": "8rTWo5WH2t6n",
        "colab_type": "code",
        "colab": {
          "base_uri": "https://localhost:8080/",
          "height": 34
        },
        "outputId": "97699a6c-7dbe-49fe-fdb4-43d27f042f5a"
      },
      "source": [
        "print(train_set_scaled.shape)"
      ],
      "execution_count": null,
      "outputs": [
        {
          "output_type": "stream",
          "text": [
            "(6091, 2)\n"
          ],
          "name": "stdout"
        }
      ]
    },
    {
      "cell_type": "code",
      "metadata": {
        "id": "cSBJtp8A2Jd_",
        "colab_type": "code",
        "colab": {}
      },
      "source": [
        "X_train = []\n",
        "y_train = []\n",
        "for i in range(60, len(train_set_scaled)):\n",
        "  X_train.append(train_set_scaled[i-60 : i, :])\n",
        "  y_train.append(train_set_scaled[i, 1])\n",
        "X_train, y_train = np.array(X_train), np.array(y_train)"
      ],
      "execution_count": null,
      "outputs": []
    },
    {
      "cell_type": "code",
      "metadata": {
        "id": "RHY7KHoS37LV",
        "colab_type": "code",
        "colab": {
          "base_uri": "https://localhost:8080/",
          "height": 34
        },
        "outputId": "a7a68bf9-e5ab-498b-e4e1-8f39b5ebb529"
      },
      "source": [
        "print(X_train.shape)"
      ],
      "execution_count": null,
      "outputs": [
        {
          "output_type": "stream",
          "text": [
            "(6031, 60, 2)\n"
          ],
          "name": "stdout"
        }
      ]
    },
    {
      "cell_type": "code",
      "metadata": {
        "id": "Y-4pBBFv4Co3",
        "colab_type": "code",
        "colab": {
          "base_uri": "https://localhost:8080/",
          "height": 840
        },
        "outputId": "c3f44fc1-e077-42bd-e6c0-5fb8f0af738c"
      },
      "source": [
        "#X_train = np.reshape(X_train, (X_train.shape[0], X_train.shape[1], 2))\n",
        "print(X_train)"
      ],
      "execution_count": null,
      "outputs": [
        {
          "output_type": "stream",
          "text": [
            "[[[0.05676299 0.01643294]\n",
            "  [0.05716414 0.01707241]\n",
            "  [0.05534463 0.01528784]\n",
            "  ...\n",
            "  [0.06554535 0.02559374]\n",
            "  [0.06504391 0.02592091]\n",
            "  [0.06624737 0.02627783]]\n",
            "\n",
            " [[0.05716414 0.01707241]\n",
            "  [0.05534463 0.01528784]\n",
            "  [0.05386897 0.01268534]\n",
            "  ...\n",
            "  [0.06504391 0.02592091]\n",
            "  [0.06624737 0.02627783]\n",
            "  [0.06735054 0.0278542 ]]\n",
            "\n",
            " [[0.05534463 0.01528784]\n",
            "  [0.05386897 0.01268534]\n",
            "  [0.05368272 0.01342891]\n",
            "  ...\n",
            "  [0.06624737 0.02627783]\n",
            "  [0.06735054 0.0278542 ]\n",
            "  [0.06745082 0.02592091]]\n",
            "\n",
            " ...\n",
            "\n",
            " [[0.06399805 0.02508811]\n",
            "  [0.06164845 0.02324406]\n",
            "  [0.06166277 0.01787547]\n",
            "  ...\n",
            "  [0.05076004 0.00807519]\n",
            "  [0.05133311 0.01041001]\n",
            "  [0.04977149 0.01045462]]\n",
            "\n",
            " [[0.06164845 0.02324406]\n",
            "  [0.06166277 0.01787547]\n",
            "  [0.05835327 0.01864878]\n",
            "  ...\n",
            "  [0.05133311 0.01041001]\n",
            "  [0.04977149 0.01045462]\n",
            "  [0.04954226 0.00837262]]\n",
            "\n",
            " [[0.06166277 0.01787547]\n",
            "  [0.05835327 0.01864878]\n",
            "  [0.0601298  0.01402376]\n",
            "  ...\n",
            "  [0.04977149 0.01045462]\n",
            "  [0.04954226 0.00837262]\n",
            "  [0.04955658 0.00878902]]]\n"
          ],
          "name": "stdout"
        }
      ]
    },
    {
      "cell_type": "markdown",
      "metadata": {
        "id": "E9nsQ0Bc7Y7p",
        "colab_type": "text"
      },
      "source": [
        "### Building and Training RNN"
      ]
    },
    {
      "cell_type": "code",
      "metadata": {
        "id": "v4xnNJy_4s6m",
        "colab_type": "code",
        "colab": {}
      },
      "source": [
        "from keras.models import Sequential\n",
        "from keras.layers import Dense\n",
        "from keras.layers import LSTM\n",
        "from keras.layers import Dropout"
      ],
      "execution_count": null,
      "outputs": []
    },
    {
      "cell_type": "code",
      "metadata": {
        "id": "TJwNW8Po7b5P",
        "colab_type": "code",
        "colab": {}
      },
      "source": [
        "regressor = Sequential()"
      ],
      "execution_count": null,
      "outputs": []
    },
    {
      "cell_type": "code",
      "metadata": {
        "id": "K-z-mR5G7hK0",
        "colab_type": "code",
        "colab": {}
      },
      "source": [
        "regressor.add(LSTM(units=50,return_sequences=True, input_shape=(X_train.shape[1], 2)))\n",
        "regressor.add(Dropout(0.3))"
      ],
      "execution_count": null,
      "outputs": []
    },
    {
      "cell_type": "code",
      "metadata": {
        "id": "UD2XG_v07-hp",
        "colab_type": "code",
        "colab": {}
      },
      "source": [
        "regressor.add(LSTM(units=50,return_sequences=True))\n",
        "regressor.add(Dropout(0.3))"
      ],
      "execution_count": null,
      "outputs": []
    },
    {
      "cell_type": "code",
      "metadata": {
        "id": "8KrlaSyE8AX9",
        "colab_type": "code",
        "colab": {}
      },
      "source": [
        "regressor.add(LSTM(units = 50, return_sequences = True))\n",
        "regressor.add(Dropout(0.3))"
      ],
      "execution_count": null,
      "outputs": []
    },
    {
      "cell_type": "code",
      "metadata": {
        "id": "xlgDgtYd8fP_",
        "colab_type": "code",
        "colab": {}
      },
      "source": [
        "regressor.add(LSTM(units = 50))\n",
        "regressor.add(Dropout(0.3))"
      ],
      "execution_count": null,
      "outputs": []
    },
    {
      "cell_type": "code",
      "metadata": {
        "id": "NjTPO6_L8htJ",
        "colab_type": "code",
        "colab": {}
      },
      "source": [
        "regressor.add(Dense(units = 1))"
      ],
      "execution_count": null,
      "outputs": []
    },
    {
      "cell_type": "code",
      "metadata": {
        "id": "dmHKs6958kJL",
        "colab_type": "code",
        "colab": {}
      },
      "source": [
        "regressor.compile(optimizer='adam', loss='mean_squared_error')"
      ],
      "execution_count": null,
      "outputs": []
    },
    {
      "cell_type": "code",
      "metadata": {
        "id": "9hu4lobZ8sso",
        "colab_type": "code",
        "colab": {
          "base_uri": "https://localhost:8080/",
          "height": 706
        },
        "outputId": "e9a1c354-5748-4c66-ceac-6ade45e588ef"
      },
      "source": [
        "regressor.fit(X_train, y_train, epochs=20, batch_size=32)"
      ],
      "execution_count": null,
      "outputs": [
        {
          "output_type": "stream",
          "text": [
            "Epoch 1/20\n",
            "6031/6031 [==============================] - 29s 5ms/step - loss: 0.0060\n",
            "Epoch 2/20\n",
            "6031/6031 [==============================] - 26s 4ms/step - loss: 0.0034\n",
            "Epoch 3/20\n",
            "6031/6031 [==============================] - 27s 4ms/step - loss: 0.0026\n",
            "Epoch 4/20\n",
            "6031/6031 [==============================] - 25s 4ms/step - loss: 0.0023\n",
            "Epoch 5/20\n",
            "6031/6031 [==============================] - 27s 4ms/step - loss: 0.0025\n",
            "Epoch 6/20\n",
            "6031/6031 [==============================] - 28s 5ms/step - loss: 0.0021\n",
            "Epoch 7/20\n",
            "6031/6031 [==============================] - 26s 4ms/step - loss: 0.0021\n",
            "Epoch 8/20\n",
            "6031/6031 [==============================] - 26s 4ms/step - loss: 0.0018\n",
            "Epoch 9/20\n",
            "6031/6031 [==============================] - 26s 4ms/step - loss: 0.0017\n",
            "Epoch 10/20\n",
            "6031/6031 [==============================] - 26s 4ms/step - loss: 0.0018\n",
            "Epoch 11/20\n",
            "6031/6031 [==============================] - 27s 5ms/step - loss: 0.0018\n",
            "Epoch 12/20\n",
            "6031/6031 [==============================] - 29s 5ms/step - loss: 0.0017\n",
            "Epoch 13/20\n",
            "6031/6031 [==============================] - 29s 5ms/step - loss: 0.0016\n",
            "Epoch 14/20\n",
            "6031/6031 [==============================] - 29s 5ms/step - loss: 0.0016\n",
            "Epoch 15/20\n",
            "6031/6031 [==============================] - 29s 5ms/step - loss: 0.0014\n",
            "Epoch 16/20\n",
            "6031/6031 [==============================] - 29s 5ms/step - loss: 0.0015\n",
            "Epoch 17/20\n",
            "6031/6031 [==============================] - 29s 5ms/step - loss: 0.0014\n",
            "Epoch 18/20\n",
            "6031/6031 [==============================] - 28s 5ms/step - loss: 0.0013\n",
            "Epoch 19/20\n",
            "6031/6031 [==============================] - 29s 5ms/step - loss: 0.0014\n",
            "Epoch 20/20\n",
            "6031/6031 [==============================] - 28s 5ms/step - loss: 0.0014\n"
          ],
          "name": "stdout"
        },
        {
          "output_type": "execute_result",
          "data": {
            "text/plain": [
              "<keras.callbacks.callbacks.History at 0x7f7180b26e80>"
            ]
          },
          "metadata": {
            "tags": []
          },
          "execution_count": 206
        }
      ]
    },
    {
      "cell_type": "code",
      "metadata": {
        "id": "kpY1V7j0Btmy",
        "colab_type": "code",
        "colab": {
          "base_uri": "https://localhost:8080/",
          "height": 84
        },
        "outputId": "72e8d4cd-3b18-48ca-c531-771b5542fba4"
      },
      "source": [
        "inputs = data.iloc[len(data) - 20 - 60 :, 1 : 3].values\n",
        "print(inputs.shape)\n",
        "test_set_scaled_prev_close = sc_1.transform(inputs[:, 0].reshape(-1, 1))\n",
        "print(test_set_scaled_prev_close.shape)\n",
        "test_set_scaled_open = sc_2.transform(inputs[:, 1].reshape(-1, 1))\n",
        "print(test_set_scaled_open.shape)\n",
        "test_set_scaled = np.concatenate((test_set_scaled_prev_close, test_set_scaled_open), axis=1)\n",
        "print(test_set_scaled.shape)"
      ],
      "execution_count": null,
      "outputs": [
        {
          "output_type": "stream",
          "text": [
            "(80, 2)\n",
            "(80, 1)\n",
            "(80, 1)\n",
            "(80, 2)\n"
          ],
          "name": "stdout"
        }
      ]
    },
    {
      "cell_type": "code",
      "metadata": {
        "id": "l7ZQeyHJSDGO",
        "colab_type": "code",
        "colab": {
          "base_uri": "https://localhost:8080/",
          "height": 1000
        },
        "outputId": "c875ef69-06aa-488e-815d-575a90f50f8c"
      },
      "source": [
        "print(test_set_scaled)"
      ],
      "execution_count": null,
      "outputs": [
        {
          "output_type": "stream",
          "text": [
            "[[0.05835327 0.01864878]\n",
            " [0.0601298  0.01402376]\n",
            " [0.05203513 0.01430632]\n",
            " [0.05249359 0.01045462]\n",
            " [0.05441339 0.01448478]\n",
            " [0.05523002 0.01759291]\n",
            " [0.05614694 0.01402376]\n",
            " [0.05355378 0.01461862]\n",
            " [0.05640482 0.01521348]\n",
            " [0.05345349 0.01329506]\n",
            " [0.05028725 0.01235816]\n",
            " [0.05341051 0.01191202]\n",
            " [0.05243628 0.01342891]\n",
            " [0.05379733 0.01307199]\n",
            " [0.05257955 0.01313148]\n",
            " [0.05225003 0.01164433]\n",
            " [0.05401224 0.01580834]\n",
            " [0.05537329 0.01521348]\n",
            " [0.05515838 0.01342891]\n",
            " [0.05293772 0.01268534]\n",
            " [0.05406954 0.01335455]\n",
            " [0.05349647 0.01223919]\n",
            " [0.05150504 0.01209048]\n",
            " [0.05183455 0.01164433]\n",
            " [0.05280878 0.01253662]\n",
            " [0.05447069 0.01506477]\n",
            " [0.05458531 0.01177818]\n",
            " [0.05124715 0.01134691]\n",
            " [0.04882591 0.00841723]\n",
            " [0.04902649 0.008328  ]\n",
            " [0.0489262  0.00880389]\n",
            " [0.0477514  0.00746546]\n",
            " [0.04740756 0.0063501 ]\n",
            " [0.04782303 0.01061821]\n",
            " [0.0498861  0.00835775]\n",
            " [0.0481239  0.00746546]\n",
            " [0.04767977 0.00700445]\n",
            " [0.0444992  0.00435733]\n",
            " [0.04378286 0.0030189 ]\n",
            " [0.04395478 0.00321223]\n",
            " [0.04353931 0.00272147]\n",
            " [0.04322411 0.00284044]\n",
            " [0.04338171 0.0027066 ]\n",
            " [0.04544478 0.00493732]\n",
            " [0.04533016 0.00394093]\n",
            " [0.04621843 0.00629062]\n",
            " [0.04872563 0.00804545]\n",
            " [0.04878293 0.00881876]\n",
            " [0.05011533 0.00953259]\n",
            " [0.04987177 0.01002335]\n",
            " [0.05381166 0.01610577]\n",
            " [0.05352512 0.01333968]\n",
            " [0.05285176 0.01240278]\n",
            " [0.05378301 0.01342891]\n",
            " [0.05076004 0.00807519]\n",
            " [0.05133311 0.01041001]\n",
            " [0.04977149 0.01045462]\n",
            " [0.04954226 0.00837262]\n",
            " [0.04955658 0.00878902]\n",
            " [0.05147638 0.01113871]\n",
            " [0.05286609 0.01253662]\n",
            " [0.05378301 0.01390479]\n",
            " [0.05514406 0.01545142]\n",
            " [0.05289474 0.01170382]\n",
            " [0.05308099 0.01342891]\n",
            " [0.05289474 0.01194176]\n",
            " [0.05136177 0.01137665]\n",
            " [0.05113254 0.01088589]\n",
            " [0.05295205 0.01272995]\n",
            " [0.0531383  0.01302738]\n",
            " [0.05292339 0.01301251]\n",
            " [0.05388329 0.01313148]\n",
            " [0.05404089 0.01369659]\n",
            " [0.05498646 0.01485656]\n",
            " [0.05704953 0.01640319]\n",
            " [0.05604665 0.01664114]\n",
            " [0.05521569 0.01470785]\n",
            " [0.05331022 0.01341404]\n",
            " [0.05266551 0.01253662]\n",
            " [0.05336753 0.01307199]]\n"
          ],
          "name": "stdout"
        }
      ]
    },
    {
      "cell_type": "code",
      "metadata": {
        "id": "zA8MrSzIDKuq",
        "colab_type": "code",
        "colab": {}
      },
      "source": [
        "X_test = []\n",
        "for i in range(60, len(test_set_scaled)):\n",
        "  X_test.append(test_set_scaled[i-60 : i, :])\n",
        "X_test = np.array(X_test)"
      ],
      "execution_count": null,
      "outputs": []
    },
    {
      "cell_type": "code",
      "metadata": {
        "id": "tBimJZR_GJ3Y",
        "colab_type": "code",
        "colab": {
          "base_uri": "https://localhost:8080/",
          "height": 34
        },
        "outputId": "d214ca72-4290-4b88-8e76-0bff9b3bc473"
      },
      "source": [
        "print(X_test.shape)"
      ],
      "execution_count": null,
      "outputs": [
        {
          "output_type": "stream",
          "text": [
            "(20, 60, 2)\n"
          ],
          "name": "stdout"
        }
      ]
    },
    {
      "cell_type": "code",
      "metadata": {
        "id": "3pXyDjD2GLZ4",
        "colab_type": "code",
        "colab": {
          "base_uri": "https://localhost:8080/",
          "height": 840
        },
        "outputId": "a31dde69-b262-44ca-d989-387d4ecc5fa3"
      },
      "source": [
        "print(X_test)"
      ],
      "execution_count": null,
      "outputs": [
        {
          "output_type": "stream",
          "text": [
            "[[[0.05835327 0.01864878]\n",
            "  [0.0601298  0.01402376]\n",
            "  [0.05203513 0.01430632]\n",
            "  ...\n",
            "  [0.04954226 0.00837262]\n",
            "  [0.04955658 0.00878902]\n",
            "  [0.05147638 0.01113871]]\n",
            "\n",
            " [[0.0601298  0.01402376]\n",
            "  [0.05203513 0.01430632]\n",
            "  [0.05249359 0.01045462]\n",
            "  ...\n",
            "  [0.04955658 0.00878902]\n",
            "  [0.05147638 0.01113871]\n",
            "  [0.05286609 0.01253662]]\n",
            "\n",
            " [[0.05203513 0.01430632]\n",
            "  [0.05249359 0.01045462]\n",
            "  [0.05441339 0.01448478]\n",
            "  ...\n",
            "  [0.05147638 0.01113871]\n",
            "  [0.05286609 0.01253662]\n",
            "  [0.05378301 0.01390479]]\n",
            "\n",
            " ...\n",
            "\n",
            " [[0.05537329 0.01521348]\n",
            "  [0.05515838 0.01342891]\n",
            "  [0.05293772 0.01268534]\n",
            "  ...\n",
            "  [0.05704953 0.01640319]\n",
            "  [0.05604665 0.01664114]\n",
            "  [0.05521569 0.01470785]]\n",
            "\n",
            " [[0.05515838 0.01342891]\n",
            "  [0.05293772 0.01268534]\n",
            "  [0.05406954 0.01335455]\n",
            "  ...\n",
            "  [0.05604665 0.01664114]\n",
            "  [0.05521569 0.01470785]\n",
            "  [0.05331022 0.01341404]]\n",
            "\n",
            " [[0.05293772 0.01268534]\n",
            "  [0.05406954 0.01335455]\n",
            "  [0.05349647 0.01223919]\n",
            "  ...\n",
            "  [0.05521569 0.01470785]\n",
            "  [0.05331022 0.01341404]\n",
            "  [0.05266551 0.01253662]]]\n"
          ],
          "name": "stdout"
        }
      ]
    },
    {
      "cell_type": "code",
      "metadata": {
        "id": "efJCellvGRKM",
        "colab_type": "code",
        "colab": {}
      },
      "source": [
        "predicted_stock_price = regressor.predict(X_test)\n",
        "predicted_stock_price = sc_2.inverse_transform(predicted_stock_price)\n",
        "real_stock_price = data.iloc[-20:, 2].values"
      ],
      "execution_count": null,
      "outputs": []
    },
    {
      "cell_type": "code",
      "metadata": {
        "id": "7uCIgJmoGvig",
        "colab_type": "code",
        "colab": {
          "base_uri": "https://localhost:8080/",
          "height": 353
        },
        "outputId": "a85ca26f-9fbc-4919-8caf-603148f901f3"
      },
      "source": [
        "print(predicted_stock_price)"
      ],
      "execution_count": null,
      "outputs": [
        {
          "output_type": "stream",
          "text": [
            "[[172.5783 ]\n",
            " [173.52689]\n",
            " [176.54752]\n",
            " [181.1067 ]\n",
            " [185.03323]\n",
            " [187.45486]\n",
            " [188.03864]\n",
            " [186.89195]\n",
            " [184.59877]\n",
            " [182.57645]\n",
            " [181.68881]\n",
            " [181.96512]\n",
            " [183.09177]\n",
            " [184.68098]\n",
            " [186.63083]\n",
            " [189.1764 ]\n",
            " [191.98361]\n",
            " [194.02487]\n",
            " [194.36977]\n",
            " [192.87634]]\n"
          ],
          "name": "stdout"
        }
      ]
    },
    {
      "cell_type": "code",
      "metadata": {
        "id": "VMO_8p3VUi8R",
        "colab_type": "code",
        "colab": {
          "base_uri": "https://localhost:8080/",
          "height": 295
        },
        "outputId": "476b2814-7a11-4042-d7ef-ac98d1f2dd9b"
      },
      "source": [
        "plt.plot(real_stock_price, color = 'red', label = 'Real Stock Price')\n",
        "plt.plot(predicted_stock_price, color = 'blue', label = 'Predicted Stock Price')\n",
        "plt.title('Stock Price Prediction')\n",
        "plt.xlabel('Time')\n",
        "plt.ylabel('Stock Price')\n",
        "plt.legend()\n",
        "plt.show()"
      ],
      "execution_count": null,
      "outputs": [
        {
          "output_type": "display_data",
          "data": {
            "image/png": "[encoded data removed]",
            "text/plain": [
              "<Figure size 432x288 with 1 Axes>"
            ]
          },
          "metadata": {
            "tags": [],
            "needs_background": "light"
          }
        }
      ]
    },
    {
      "cell_type": "code",
      "metadata": {
        "id": "8oSN23gaUq2o",
        "colab_type": "code",
        "colab": {}
      },
      "source": [
        "regressor.save('rnn_stock_price_model.h5')"
      ],
      "execution_count": null,
      "outputs": []
    },
    {
      "cell_type": "code",
      "metadata": {
        "id": "T8No96ZMVEMc",
        "colab_type": "code",
        "colab": {}
      },
      "source": [
        ""
      ],
      "execution_count": null,
      "outputs": []
    }
  ]
}